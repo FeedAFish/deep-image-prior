{
  "nbformat": 4,
  "nbformat_minor": 0,
  "metadata": {
    "orig_nbformat": 2,
    "colab": {
      "name": "vnvo2409/denoising.ipynb",
      "provenance": [],
      "collapsed_sections": [],
      "include_colab_link": true
    },
    "language_info": {
      "name": "python"
    },
    "kernelspec": {
      "name": "python3",
      "display_name": "Python 3"
    },
    "accelerator": "GPU"
  },
  "cells": [
    {
      "cell_type": "markdown",
      "metadata": {
        "id": "view-in-github",
        "colab_type": "text"
      },
      "source": [
        "<a href=\"https://colab.research.google.com/github/vnvo2409/deep-image-prior/blob/main/code/denoising.ipynb\" target=\"_parent\"><img src=\"https://colab.research.google.com/assets/colab-badge.svg\" alt=\"Open In Colab\"/></a>"
      ]
    },
    {
      "cell_type": "code",
      "metadata": {
        "id": "txqlskRZUhlX"
      },
      "source": [
        "!rm -rf *\n",
        "!git clone https://github.com/vnvo2409/deep-image-prior\n",
        "!mv deep-image-prior/code/* ./\n",
        "!mv deep-image-prior/res/ ./res"
      ],
      "execution_count": null,
      "outputs": []
    },
    {
      "cell_type": "code",
      "metadata": {
        "id": "xJyTsMObUZAM"
      },
      "source": [
        "import functools\n",
        "\n",
        "import tensorflow as tf\n",
        "\n",
        "import callbacks\n",
        "import metrics\n",
        "import skip\n",
        "import utils"
      ],
      "execution_count": null,
      "outputs": []
    },
    {
      "cell_type": "code",
      "metadata": {
        "id": "MJO8k0izc7N_"
      },
      "source": [
        "kDATA_FORMAT = \"NCHW\""
      ],
      "execution_count": null,
      "outputs": []
    },
    {
      "cell_type": "code",
      "metadata": {
        "id": "J1nzj0ktVwzs"
      },
      "source": [
        "def denoising_train_dataset_generator(x, y, noise_std=1 / 30):\n",
        "    while True:\n",
        "        yield (tf.add(x, tf.random.normal(tf.shape(x), stddev=noise_std)), y)\n",
        "\n",
        "\n",
        "def build_denoising_initial_input(input_img, input_depth, maxval=0.1, data_format=None):\n",
        "    input_shape = None\n",
        "    if data_format != \"NCHW\":\n",
        "        size = tf.shape(input_img)[tf.rank(input_img) - 3 : tf.rank(input_img) - 1]\n",
        "        input_shape = (1, size[0], size[1], input_depth)\n",
        "    else:\n",
        "        size = tf.shape(input_img)[tf.rank(input_img) - 2 : tf.rank(input_img)]\n",
        "        input_shape = (1, input_depth, size[0], size[1])\n",
        "    return tf.random.uniform(input_shape, 0, maxval)\n",
        "\n",
        "\n",
        "def build_denoising_model(summary=False, plot=None, data_format=None):\n",
        "    model = skip.build_skip_net(\n",
        "        32,\n",
        "        3,\n",
        "        5,\n",
        "        128,\n",
        "        128,\n",
        "        4,\n",
        "        upsample_modes=\"bilinear\",\n",
        "        padding_mode=\"reflect\",\n",
        "        data_format=data_format,\n",
        "        activations=functools.partial(tf.keras.layers.LeakyReLU, 0.2),\n",
        "    )\n",
        "    if summary:\n",
        "        model.summary(line_length=150)\n",
        "    if plot:\n",
        "        tf.keras.utils.plot_model(\n",
        "            model, to_file=plot, show_shapes=True, expand_nested=True, dpi=192\n",
        "        )\n",
        "    return model"
      ],
      "execution_count": null,
      "outputs": []
    },
    {
      "cell_type": "code",
      "metadata": {
        "id": "EqIrA6ZRVxma"
      },
      "source": [
        "input_img = utils.load_img(\"res/denoising/input.png\", data_format=kDATA_FORMAT)\n",
        "input_img = tf.expand_dims(input_img, axis=0)\n",
        "noisy_img = utils.make_noisy_img(input_img)\n",
        "input_net = build_denoising_initial_input(input_img, 32, data_format=kDATA_FORMAT)"
      ],
      "execution_count": null,
      "outputs": []
    },
    {
      "cell_type": "code",
      "metadata": {
        "id": "fP9Bue-VV0qS"
      },
      "source": [
        "model = build_denoising_model(data_format=kDATA_FORMAT)"
      ],
      "execution_count": null,
      "outputs": []
    },
    {
      "cell_type": "code",
      "metadata": {
        "id": "5_-xJflGV3KY"
      },
      "source": [
        "model.compile(\n",
        "    loss=\"mse\",\n",
        "    optimizer=tf.keras.optimizers.Adam(learning_rate=0.01),\n",
        "    metrics=metrics.build_psnr_metrics(addition_imgs={\"original\": input_img}),\n",
        ")"
      ],
      "execution_count": null,
      "outputs": []
    },
    {
      "cell_type": "code",
      "metadata": {
        "id": "ES86ZpDNV74p"
      },
      "source": [
        "save_predictions_callback = callbacks.SavePredictions(input_net, plot=True, data_format=kDATA_FORMAT)"
      ],
      "execution_count": null,
      "outputs": []
    },
    {
      "cell_type": "code",
      "metadata": {
        "id": "S72-_6e2V9Nd"
      },
      "source": [
        "model.fit(\n",
        "    x=denoising_train_dataset_generator(input_net, noisy_img),\n",
        "    epochs=3000,\n",
        "    steps_per_epoch=1,\n",
        "    callbacks=[save_predictions_callback],\n",
        "    verbose=2,\n",
        ")"
      ],
      "execution_count": null,
      "outputs": []
    },
    {
      "cell_type": "code",
      "metadata": {
        "id": "4uAYHuYwgDnl"
      },
      "source": [
        "denoised_img = model(input_net)"
      ],
      "execution_count": null,
      "outputs": []
    },
    {
      "cell_type": "code",
      "metadata": {
        "id": "DQQLVTT_gGI7"
      },
      "source": [
        "utils.plot_img(tf.concat([input_img, noisy_img, denoised_img], axis=0), figsize=(25,25), data_format=kDATA_FORMAT)"
      ],
      "execution_count": null,
      "outputs": []
    }
  ]
}